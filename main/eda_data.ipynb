{
 "cells": [
  {
   "cell_type": "code",
   "execution_count": 1,
   "metadata": {},
   "outputs": [],
   "source": [
    "### Import libs\n",
    "import pandas as pd\n",
    "import numpy as np"
   ]
  },
  {
   "cell_type": "code",
   "execution_count": 2,
   "metadata": {},
   "outputs": [],
   "source": [
    "### Load data\n",
    "df = pd.read_csv('./resources/dataset/AirQuality.csv')"
   ]
  },
  {
   "cell_type": "code",
   "execution_count": 3,
   "metadata": {},
   "outputs": [],
   "source": [
    "### Clean data\n",
    "\n",
    "# xoá cột thừa\n",
    "df = df.drop([\"Unnamed: 15\", \"Unnamed: 16\"], axis = 1)\n",
    "df = df.dropna()"
   ]
  },
  {
   "cell_type": "code",
   "execution_count": 4,
   "metadata": {},
   "outputs": [
    {
     "name": "stdout",
     "output_type": "stream",
     "text": [
      "<class 'pandas.core.frame.DataFrame'>\n",
      "Int64Index: 9357 entries, 0 to 9356\n",
      "Data columns (total 15 columns):\n",
      " #   Column         Non-Null Count  Dtype  \n",
      "---  ------         --------------  -----  \n",
      " 0   Date           9357 non-null   object \n",
      " 1   Time           9357 non-null   object \n",
      " 2   CO(GT)         7674 non-null   float64\n",
      " 3   PT08.S1(CO)    8991 non-null   float64\n",
      " 4   NMHC(GT)       914 non-null    float64\n",
      " 5   C6H6(GT)       8991 non-null   float64\n",
      " 6   PT08.S2(NMHC)  8991 non-null   float64\n",
      " 7   NOx(GT)        7718 non-null   float64\n",
      " 8   PT08.S3(NOx)   8991 non-null   float64\n",
      " 9   NO2(GT)        7715 non-null   float64\n",
      " 10  PT08.S4(NO2)   8991 non-null   float64\n",
      " 11  PT08.S5(O3)    8991 non-null   float64\n",
      " 12  T              8991 non-null   float64\n",
      " 13  RH             8991 non-null   float64\n",
      " 14  AH             8991 non-null   float64\n",
      "dtypes: float64(13), object(2)\n",
      "memory usage: 1.1+ MB\n"
     ]
    }
   ],
   "source": [
    "# kiểm tra cột miss values > 80% và xóa (các giá trị -200 là giá trị miss)\n",
    "df.replace(to_replace=-200, value=np.NaN, inplace=True)\n",
    "df.info()"
   ]
  },
  {
   "cell_type": "code",
   "execution_count": 5,
   "metadata": {},
   "outputs": [
    {
     "name": "stdout",
     "output_type": "stream",
     "text": [
      "Column NMHC(GT) has 90.23 missing values\n"
     ]
    }
   ],
   "source": [
    "# kiểm tra cột NMHC(GT) miss bn value\n",
    "percent_miss_value_NMHC = df['NMHC(GT)'].isna().sum() * 100 / len(df['NMHC(GT)'])\n",
    "print('Column NMHC(GT) has %.2f missing values' % (percent_miss_value_NMHC))\n",
    "# xóa cột NMHC(GT)\n",
    "df.drop('NMHC(GT)', axis=1, inplace=True)"
   ]
  },
  {
   "cell_type": "code",
   "execution_count": 6,
   "metadata": {},
   "outputs": [],
   "source": [
    "# chuẩn hoá cột Date\n",
    "df['Date'] = df.Date + ' ' + df.Time\n",
    "df['Date'] = pd.to_datetime(df['Date'], format=\"%d/%m/%Y %H:%M:%S\")\n",
    "df.drop('Time', axis=1, inplace=True)"
   ]
  },
  {
   "cell_type": "code",
   "execution_count": 7,
   "metadata": {},
   "outputs": [],
   "source": [
    "# thay thế các giá trị thiếu = giá trị trung bình cột đó\n",
    "for i in df.columns:\n",
    "    df[i] = df[i].fillna(df[i].median())"
   ]
  },
  {
   "cell_type": "code",
   "execution_count": 8,
   "metadata": {},
   "outputs": [],
   "source": [
    "### Dự đoán cột PT08S1(CO) nên tiến hành đổi chỗ cột đó xuống cuối tiện việc tính toán\n",
    "columns = df.columns.to_list()\n",
    "columns.insert(len(columns), columns.pop(columns.index('PT08.S1(CO)')))\n",
    "df = df[columns]"
   ]
  },
  {
   "cell_type": "code",
   "execution_count": 9,
   "metadata": {},
   "outputs": [
    {
     "name": "stdout",
     "output_type": "stream",
     "text": [
      "<class 'pandas.core.frame.DataFrame'>\n",
      "Int64Index: 9357 entries, 0 to 9356\n",
      "Data columns (total 13 columns):\n",
      " #   Column         Non-Null Count  Dtype         \n",
      "---  ------         --------------  -----         \n",
      " 0   Date           9357 non-null   datetime64[ns]\n",
      " 1   CO(GT)         9357 non-null   float64       \n",
      " 2   C6H6(GT)       9357 non-null   float64       \n",
      " 3   PT08.S2(NMHC)  9357 non-null   float64       \n",
      " 4   NOx(GT)        9357 non-null   float64       \n",
      " 5   PT08.S3(NOx)   9357 non-null   float64       \n",
      " 6   NO2(GT)        9357 non-null   float64       \n",
      " 7   PT08.S4(NO2)   9357 non-null   float64       \n",
      " 8   PT08.S5(O3)    9357 non-null   float64       \n",
      " 9   T              9357 non-null   float64       \n",
      " 10  RH             9357 non-null   float64       \n",
      " 11  AH             9357 non-null   float64       \n",
      " 12  PT08.S1(CO)    9357 non-null   float64       \n",
      "dtypes: datetime64[ns](1), float64(12)\n",
      "memory usage: 1023.4 KB\n"
     ]
    }
   ],
   "source": [
    "### Export data\n",
    "df.info()\n",
    "df.to_csv('./resources/dataset/data_clean.csv', index=False)"
   ]
  }
 ],
 "metadata": {
  "kernelspec": {
   "display_name": "Python 3",
   "language": "python",
   "name": "python3"
  },
  "language_info": {
   "codemirror_mode": {
    "name": "ipython",
    "version": 3
   },
   "file_extension": ".py",
   "mimetype": "text/x-python",
   "name": "python",
   "nbconvert_exporter": "python",
   "pygments_lexer": "ipython3",
   "version": "3.10.9 (tags/v3.10.9:1dd9be6, Dec  6 2022, 20:01:21) [MSC v.1934 64 bit (AMD64)]"
  },
  "vscode": {
   "interpreter": {
    "hash": "272ca4b2be2b5d918b58e94ff76524ef2995b094c8c3e551b37e4fd3d5c9a9ea"
   }
  }
 },
 "nbformat": 4,
 "nbformat_minor": 2
}
